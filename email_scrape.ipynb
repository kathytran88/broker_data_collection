{
 "cells": [
  {
   "cell_type": "code",
   "execution_count": 1,
   "metadata": {},
   "outputs": [
    {
     "name": "stdout",
     "output_type": "stream",
     "text": [
      "{'name': ['John Karg'], 'link': ['https://www.ibba.org/broker-profile/district-of-columbia/washington/john-karg/']}\n"
     ]
    }
   ],
   "source": [
    "from selenium import webdriver\n",
    "from bs4 import BeautifulSoup\n",
    "\n",
    "driver = webdriver.Chrome()  \n",
    "\n",
    "url = 'https://www.ibba.org/state/kansas/'\n",
    "\n",
    "driver.get(url)\n",
    "\n",
    "driver.implicitly_wait(10) \n",
    "\n",
    "html_content = driver.page_source\n",
    "\n",
    "soup = BeautifulSoup(html_content, 'html.parser')\n",
    "\n",
    "profile = {\n",
    "    'name': [],\n",
    "    'link': []\n",
    "}\n",
    "\n",
    "brokers_boxes = soup.find_all('div', class_='brokers__box')\n",
    "\n",
    "for box in brokers_boxes:\n",
    "    name_tag = box.find('h4', class_='brokers__item--topTitle')\n",
    "    name = name_tag.get_text(strip=True) if name_tag else 'N/A'\n",
    "\n",
    "    link_tag = box.find('a', class_='brokers__item--link')\n",
    "    link_href = link_tag['href'] if link_tag else 'N/A'\n",
    "\n",
    "    profile['name'].append(name)\n",
    "    profile['link'].append(link_href)\n",
    "\n",
    "driver.quit()\n",
    "\n",
    "print(profile)\n"
   ]
  },
  {
   "cell_type": "code",
   "execution_count": 2,
   "metadata": {},
   "outputs": [],
   "source": [
    "email_list = []\n",
    "\n",
    "for each_link in profile['link']:\n",
    "    # Initialize the WebDriver (ensure you have the correct path or it's in PATH)\n",
    "    driver = webdriver.Chrome()\n",
    "\n",
    "    try:\n",
    "        url = each_link\n",
    "        driver.get(url)\n",
    "\n",
    "        driver.implicitly_wait(10)  # Wait for the page to load\n",
    "\n",
    "        html_content = driver.page_source\n",
    "\n",
    "        # Use BeautifulSoup to parse the page content\n",
    "        soup = BeautifulSoup(html_content, 'html.parser')\n",
    "\n",
    "        # Find the desired element\n",
    "        location = soup.find_all('div', class_='brokers__profile--leftPhone')\n",
    "        if location and len(location) > 1:\n",
    "            link_tag = location[1].find('a')\n",
    "            if link_tag:\n",
    "                # Extract the text content from the <a> tag\n",
    "                email_text = link_tag.get_text(strip=True)\n",
    "                \n",
    "                email_list.append(email_text)\n",
    "            else:\n",
    "                print(\"Link tag not found.\")\n",
    "        else:\n",
    "            link_tag = location[0].find('a')\n",
    "            if link_tag:\n",
    "                email_text = link_tag.get_text(strip=True)\n",
    "                \n",
    "                email_list.append(email_text)\n",
    "    finally:\n",
    "        driver.quit()\n"
   ]
  },
  {
   "cell_type": "code",
   "execution_count": 3,
   "metadata": {},
   "outputs": [
    {
     "data": {
      "text/html": [
       "<div>\n",
       "<style scoped>\n",
       "    .dataframe tbody tr th:only-of-type {\n",
       "        vertical-align: middle;\n",
       "    }\n",
       "\n",
       "    .dataframe tbody tr th {\n",
       "        vertical-align: top;\n",
       "    }\n",
       "\n",
       "    .dataframe thead th {\n",
       "        text-align: right;\n",
       "    }\n",
       "</style>\n",
       "<table border=\"1\" class=\"dataframe\">\n",
       "  <thead>\n",
       "    <tr style=\"text-align: right;\">\n",
       "      <th></th>\n",
       "      <th>name</th>\n",
       "      <th>link</th>\n",
       "      <th>emails</th>\n",
       "    </tr>\n",
       "  </thead>\n",
       "  <tbody>\n",
       "    <tr>\n",
       "      <th>0</th>\n",
       "      <td>John Karg</td>\n",
       "      <td>https://www.ibba.org/broker-profile/district-o...</td>\n",
       "      <td>jikargjr@gmail.com</td>\n",
       "    </tr>\n",
       "  </tbody>\n",
       "</table>\n",
       "</div>"
      ],
      "text/plain": [
       "        name                                               link  \\\n",
       "0  John Karg  https://www.ibba.org/broker-profile/district-o...   \n",
       "\n",
       "               emails  \n",
       "0  jikargjr@gmail.com  "
      ]
     },
     "execution_count": 3,
     "metadata": {},
     "output_type": "execute_result"
    }
   ],
   "source": [
    "profile['emails'] = email_list \n",
    "import pandas as pd\n",
    "df = pd.DataFrame(profile)\n",
    "df.head()"
   ]
  },
  {
   "cell_type": "code",
   "execution_count": 4,
   "metadata": {},
   "outputs": [],
   "source": [
    "df.to_excel('kansas_email.xlsx')"
   ]
  }
 ],
 "metadata": {
  "kernelspec": {
   "display_name": "Python 3",
   "language": "python",
   "name": "python3"
  },
  "language_info": {
   "codemirror_mode": {
    "name": "ipython",
    "version": 3
   },
   "file_extension": ".py",
   "mimetype": "text/x-python",
   "name": "python",
   "nbconvert_exporter": "python",
   "pygments_lexer": "ipython3",
   "version": "3.12.1"
  }
 },
 "nbformat": 4,
 "nbformat_minor": 2
}
